{
 "cells": [
  {
   "cell_type": "code",
   "execution_count": 1,
   "metadata": {},
   "outputs": [],
   "source": [
    "from bs4 import BeautifulSoup\n",
    "import requests\n",
    "import os\n",
    "import json"
   ]
  },
  {
   "cell_type": "code",
   "execution_count": 2,
   "metadata": {},
   "outputs": [],
   "source": [
    "CURRENT_WEBSITE = \"https://www.webnovel.com/book/lord-of-mysteries_11022733006234505\""
   ]
  },
  {
   "cell_type": "code",
   "execution_count": 3,
   "metadata": {},
   "outputs": [],
   "source": [
    "NOVEL_DATA = \"div[class='_mn g_col _8 pr']\"\n",
    "NOVEL_COVER = \"div._sd i.g_thumb img\"\n",
    "TITLE = \"h1\"\n",
    "METRICS = \"span\" #2 one in the array\n",
    "PUBLICATION_DATA = \"address[class='lh20'] div span\"\n",
    "PUBLICATION_DATA_AUX = \"address[class='lh20'] div a\"\n",
    "\n",
    "VOLUME_CHAPTERS = \"div[class='volume-item'] ol li a\""
   ]
  },
  {
   "cell_type": "code",
   "execution_count": 4,
   "metadata": {},
   "outputs": [],
   "source": [
    "def getBookCover(title, author, editor, translator, cover):\n",
    "    return f\"\"\"<!DOCTYPE html>\n",
    "<html lang=\"en\">\n",
    "<head>\n",
    "    <meta charset=\"UTF-8\">\n",
    "    <meta name=\"viewport\" content=\"width=device-width, initial-scale=1.0\">\n",
    "    <title>{title}</title>\n",
    "    <style>\n",
    "        body {{\n",
    "            font-family: serif;\n",
    "            text-align: center;\n",
    "            margin: 0;\n",
    "            padding: 20px;\n",
    "            background-color: white;\n",
    "        }}\n",
    "        .cover-container {{\n",
    "            max-width: 600px;\n",
    "            margin: auto;\n",
    "        }}\n",
    "        .cover-image {{\n",
    "            width: 100%;\n",
    "            max-width: 400px;\n",
    "            height: auto;\n",
    "            border: 1px solid #000;\n",
    "        }}\n",
    "        .book-title {{\n",
    "            font-size: 2em;\n",
    "            font-weight: bold;\n",
    "            margin: 20px 0 10px;\n",
    "        }}\n",
    "        .author {{\n",
    "            font-size: 1.5em;\n",
    "            margin: 5px 0;\n",
    "        }}\n",
    "        .editor-translator {{\n",
    "            font-size: 1em;\n",
    "            margin-top: 10px;\n",
    "            font-style: italic;\n",
    "        }}\n",
    "    </style>\n",
    "</head>\n",
    "<body>\n",
    "    <div class=\"cover-container\">\n",
    "        <img src=\"{cover}\" alt=\"Book Cover\" class=\"cover-image\">\n",
    "        <div class=\"book-title\">{title}</div>\n",
    "        <div class=\"author\">by {author}</div>\n",
    "        <div class=\"editor-translator\">\n",
    "            {\"Edited by \" + editor if editor else \"\"} \n",
    "            {\" | Translated by \" + translator if translator else \"\"}\n",
    "        </div>\n",
    "    </div>\n",
    "</body>\n",
    "</html>\"\"\"\n"
   ]
  },
  {
   "cell_type": "code",
   "execution_count": 5,
   "metadata": {},
   "outputs": [],
   "source": [
    "def getChapter(link):\n",
    "    response = requests.get(link)\n",
    "    if response.status_code == 200:\n",
    "        return BeautifulSoup(response.text, \"html.parser\")\n",
    "    raise Exception(f\"Error getting Chapter \\n{link}\")"
   ]
  },
  {
   "cell_type": "code",
   "execution_count": 11,
   "metadata": {},
   "outputs": [],
   "source": [
    "headers = {\n",
    "    \"User-Agent\": \"Mozilla/5.0 (Windows NT 10.0; Win64; x64) AppleWebKit/537.36 (KHTML, like Gecko) Chrome/91.0.4472.124 Safari/537.36\"\n",
    "}\n",
    "\n",
    "response = requests.get(CURRENT_WEBSITE, headers=headers)\n",
    "soup = BeautifulSoup(response.text, \"html.parser\")\n"
   ]
  },
  {
   "cell_type": "code",
   "execution_count": 15,
   "metadata": {},
   "outputs": [],
   "source": [
    "novelData = soup.select_one(NOVEL_DATA)\n"
   ]
  },
  {
   "cell_type": "code",
   "execution_count": 18,
   "metadata": {},
   "outputs": [],
   "source": [
    "\n",
    "title = novelData.select_one(TITLE).text.strip()\n",
    "totalChapters = int(novelData.select(METRICS)[2].text.replace(\"Chapters\", \"\").replace(\",\", \"\"))\n",
    "\n",
    "publicationData = novelData.select(PUBLICATION_DATA)\n"
   ]
  },
  {
   "cell_type": "code",
   "execution_count": 21,
   "metadata": {},
   "outputs": [
    {
     "data": {
      "text/plain": [
       "[]"
      ]
     },
     "execution_count": 21,
     "metadata": {},
     "output_type": "execute_result"
    }
   ],
   "source": [
    "publicationData"
   ]
  },
  {
   "cell_type": "code",
   "execution_count": null,
   "metadata": {},
   "outputs": [],
   "source": [
    "\n",
    "author = publicationData[0]\n",
    "translator = publicationData[1]\n",
    "editor = publicationData[2]\n"
   ]
  },
  {
   "cell_type": "code",
   "execution_count": null,
   "metadata": {},
   "outputs": [],
   "source": [
    "\n",
    "coverImage = soup.select_one(NOVEL_COVER)['src']\n"
   ]
  },
  {
   "cell_type": "code",
   "execution_count": null,
   "metadata": {},
   "outputs": [],
   "source": [
    "\n",
    "volumeChapters = soup.select(VOLUME_CHAPTERS)\n"
   ]
  }
 ],
 "metadata": {
  "kernelspec": {
   "display_name": "Python 3",
   "language": "python",
   "name": "python3"
  },
  "language_info": {
   "codemirror_mode": {
    "name": "ipython",
    "version": 3
   },
   "file_extension": ".py",
   "mimetype": "text/x-python",
   "name": "python",
   "nbconvert_exporter": "python",
   "pygments_lexer": "ipython3",
   "version": "3.13.2"
  }
 },
 "nbformat": 4,
 "nbformat_minor": 2
}
